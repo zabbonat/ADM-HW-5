{
 "cells": [
  {
   "cell_type": "markdown",
   "metadata": {},
   "source": [
    "# Question 4 + Visualization"
   ]
  },
  {
   "cell_type": "code",
   "execution_count": 4,
   "metadata": {},
   "outputs": [],
   "source": [
    "import pandas as pd \n",
    "import networkx as nx\n",
    "import matplotlib.pyplot as plt\n",
    "import itertools\n"
   ]
  },
  {
   "cell_type": "markdown",
   "metadata": {},
   "source": [
    "## Loading datasets, creating a pandas dataframe for each file."
   ]
  },
  {
   "cell_type": "code",
   "execution_count": 5,
   "metadata": {},
   "outputs": [],
   "source": [
    "import pandas as pd\n",
    "import networkx as nx\n",
    "import itertools\n",
    "\n",
    "\n",
    "tdist = pd.read_csv(r\"CALtd.csv\")\n",
    "rdist = pd.read_csv(r\"CALrd.csv\")\n",
    "nodexy = pd.read_csv(r\"CALnodes.csv\")\n",
    "\n",
    "G1=nx.Graph()\n",
    "G1.add_nodes_from(nodexy['id'])\n",
    "edges1=rdist[['node1','node2']].values.tolist()\n",
    "G1.add_edges_from(edges1)\n",
    "\n",
    "G2=nx.Graph()\n",
    "G2.add_nodes_from(nodexy['id'])\n",
    "edges2=tdist[['node1','node2']].values.tolist()\n",
    "G2.add_edges_from(edges2)\n",
    "\n",
    "Gr = nx.dense_gnm_random_graph(20, 40, seed=None)"
   ]
  },
  {
   "cell_type": "markdown",
   "metadata": {},
   "source": [
    "## Solution 1 Explained"
   ]
  },
  {
   "cell_type": "markdown",
   "metadata": {},
   "source": [
    "The solution to this problem is at least NP-hard. Why? A similar problem studied in literature is the Hamiltonian path problem. This problem attempts to determine whether a Hamiltonian path (a path in an undirected or directed graph that visits each vertex exactly once). This problem is a NP-Complete problem. We attempt to solve this problem with a function MinRoute.\n",
    "The first element of the function is the id of the starting node, then this is followed by the id's of the nodes that have to be visited, lastly one has to specify either distype = 1 or distype = 0 even though if the weights of the edges are to be assumed to be equal to one it won't matter whether the distance is time or length. The shortest distance will be the list with the shortest length.\n",
    "\n",
    "Step 1: Making the networkx graph with nodes and egdes. Establishing whether the path is possible given the initial and final points using nx.has_path. If path is impossible, print \"not possible\".\n",
    "\n",
    "Step 2 : Only 1 Node -\n",
    "\n",
    "In the case there is only one starting node and one other node to be visited, the solution will simply be the shortest path between these 2 points, and in this case networkx module simply needs to call shortest_path and using dijkstra's algorithm the ouput will be a list representing the shortest path.\n",
    "\n",
    "Step 3: Multiple intermediate nodes -\n",
    "\n",
    "In the more complex case where there are multiple intermediate nodes to be visited the solution attempted is considerably harder and more inefficient.\n",
    "\n",
    "i) The program first tries to rely on pure luck by using the shortest path algorithm with source = H and target = p_n. Once this shortest path is computed and stored as \"slucky\" then it checks if all the elements of p are in \"slucky\". If this is the case (very unlikely) then the solution is found.\n",
    "    \n",
    "ii)  In the case the input isn't \"lucky\" then the program goes on calculating all the paths connecting initial and final point. It creates a dataframe with a column for each of these paths. Then it checks if the intermediate nodes are all in present in these paths, then it returns the path with minimum length\n",
    "\n",
    "Advantage: This method is precise and returns correct paths\n",
    "Problem: With such a large dataset the function is computationally inefficient, so inefficient that it becomes unfeasible. Therefore we attempt a different solution later on.\n",
    "\n",
    "    \n"
   ]
  },
  {
   "cell_type": "markdown",
   "metadata": {},
   "source": [
    "## Solution 1 (small networks/brute force)"
   ]
  },
  {
   "cell_type": "code",
   "execution_count": 6,
   "metadata": {},
   "outputs": [],
   "source": [
    "def MinRoute(H,*p,distype):\n",
    "    nodelist = []\n",
    "    paths = []\n",
    "    \n",
    "    for i in p:\n",
    "        nodelist.append(i)\n",
    "    \n",
    "    if distype == 1:\n",
    "        G= G1\n",
    "        \n",
    "    elif distype == 2:\n",
    "        G = G2\n",
    "        \n",
    "    elif distype ==3:\n",
    "        G = Gr\n",
    "        \n",
    "    if nx.has_path(G,H,nodelist[-1]) == False:\n",
    "            print(\"No possible path\")\n",
    "            \n",
    "    if len(nodelist) == 1:\n",
    "            return nx.shortest_path(G,source= H, target =nodelist[0])\n",
    "    elif len(nodelist) > 1:\n",
    "        slucky = nx.shortest_path(G, source = H, target = nodelist[-1])\n",
    "        if set(p) <= set(slucky):\n",
    "            shortpaths = slucky\n",
    "                         \n",
    "        else:\n",
    "            for path in nx.all_simple_paths(G,source = H, target = nodelist[-1]):\n",
    "                if set(nodelist) <= set(path):\n",
    "                    line = ','.join([str(p) for p in path])\n",
    "                    paths.append(line)\n",
    "            for i in range(len( paths )):\n",
    "                paths[int(i)] = list(map(int, paths[int(i)].split(\",\"))) \n",
    "            shortpaths = []\n",
    "            a = min(paths, key=len)\n",
    "            for el in range(len(paths)):\n",
    "                if len(paths[el]) == len(a):\n",
    "                    shortpaths.append(paths[el])\n",
    "    \n",
    "    return shortpaths\n",
    "\n",
    "\n",
    "def drawShortPath(H,*sp, distypes):\n",
    "    shortp = []\n",
    "    for i in sp:\n",
    "        shortp.append(i)\n",
    "    k = list(MinRoute(H,*shortp,distype=distypes))\n",
    "    \n",
    "    a = list(k[0])\n",
    "    if distypes == 3:    \n",
    "        gs = Gr\n",
    "    elif distypes == 1:\n",
    "        gs = G1\n",
    "    elif distypes == 2:\n",
    "        gs == G2\n",
    "    pos = nx.spring_layout(gs)\n",
    "    \n",
    "    \n",
    "    \n",
    "    color_map = []\n",
    "    u_path = list(set(a))\n",
    "    for i in range(len(u_path)):\n",
    "        if i == 0:\n",
    "            color_map.append('blue')\n",
    "        elif i == len(u_path) - 1:\n",
    "            color_map.append('red') \n",
    "        else: color_map.append('green')  \n",
    "    nx.draw_networkx_nodes(gs, pos,nodelist = a, node_size=700,node_color=color_map)\n",
    "    nx.draw_networkx_edges(gs,pos, nodelist = a, edgelist = gs.edges(),width=3)\n",
    "    nx.draw_networkx_labels(gs, pos)\n",
    "    plt.title('Shortest walk going through all nodes')\n",
    "    plt.show()\n",
    "\n",
    "    \n"
   ]
  },
  {
   "cell_type": "code",
   "execution_count": 7,
   "metadata": {},
   "outputs": [
    {
     "name": "stderr",
     "output_type": "stream",
     "text": [
      "//anaconda3/lib/python3.7/site-packages/networkx/drawing/nx_pylab.py:518: MatplotlibDeprecationWarning: \n",
      "The iterable function was deprecated in Matplotlib 3.1 and will be removed in 3.3. Use np.iterable instead.\n",
      "  if not cb.iterable(width):\n",
      "//anaconda3/lib/python3.7/site-packages/networkx/drawing/nx_pylab.py:565: MatplotlibDeprecationWarning: \n",
      "The is_numlike function was deprecated in Matplotlib 3.0 and will be removed in 3.2. Use isinstance(..., numbers.Number) instead.\n",
      "  if cb.is_numlike(alpha):\n"
     ]
    },
    {
     "data": {
      "image/png": "[encoded data removed]",
      "text/plain": [
       "<Figure size 432x288 with 1 Axes>"
      ]
     },
     "metadata": {
      "needs_background": "light"
     },
     "output_type": "display_data"
    },
    {
     "name": "stdout",
     "output_type": "stream",
     "text": [
      "Shortest path going through all nodes [2, 3, 1, 4, 7]\n"
     ]
    }
   ],
   "source": [
    "Gr = nx.dense_gnm_random_graph(10, 20, seed=None)\n",
    "\n",
    "k = list(MinRoute(2,3,4,7,distype=3))\n",
    "drawShortPath(2,3,4,7,distypes=3)\n",
    "print (\"Shortest path going through all nodes\" ,k[0])\n"
   ]
  },
  {
   "cell_type": "markdown",
   "metadata": {},
   "source": [
    "## Output"
   ]
  },
  {
   "cell_type": "markdown",
   "metadata": {},
   "source": [
    "Function \"MinRoute\" returns a list of lists with numbers representing the nodes of the shortest path possible between a set of points. Function \"drawMR\" then plots one of the shortest paths (they are all equivalent in length) and shows the starting node in blue, the ending node in red and all the in between nodes in green. Only the nodes that are traversed are labeled.\n",
    "\n",
    "This function is not feasible with large n and e (number of nodes and egdes) but to prove its accuracy we create a small graph with random nodes and edges stored as Gr and execute the algorithms. By choosing distype = 3 both algorithms work on this small network (Gr).\n",
    "\n",
    "\n"
   ]
  },
  {
   "cell_type": "markdown",
   "metadata": {},
   "source": [
    "# Solution 2 (Large Networks, Small p, Heuristical)"
   ]
  },
  {
   "cell_type": "markdown",
   "metadata": {},
   "source": [
    "This Solution we came up with relies on dijkstra's algorithm for the shortest path and the intuition that if we were to cross all the points in some order, this order would depend on the shortest possible path passing between all these points. Since this order is at least NP-hard to find and would be computationally complex for any machine we use a proxy for this order.\n",
    "The proxy: A permutation of the points to be traversed (excluding first and last points H and P_N). If there are 3 mid points there will be 3! possible permutations of the order. For each possible state of the order we calculate the path length using dijkstra. The order with minumum path length is chosen. Then the first and last points are added to the list since their state in the order is fixed. Finally dijkstra is used to return the paths between the first and second point in the order, then second and third and so on until the last point. These paths are added together to get an approximate but possibly correct shortest path covering all points.\n",
    "\n",
    "Why approximate? The approximation comes from the fact that some paths might be redundant given they pass through the same point twice or more times when there could have been a shorter total path. Say ShortCover finds the shortest path from A to B\n",
    "is A,D,E,C,B. This is because D E C is the shortest path in the permutations of E,D and C, so its faster than C-E-D or any other combination. But what if there is a path A,X,B that still manages to pass through D E and C but is shorter than what ShortCover has found? This is a possibility therfore this algorithm is not 100% precise.\n",
    "\n",
    "\n",
    "Small P: The downfall of this algorithm is that it becomes increasingly more inefficient as the number of intermediate points increases. For p intermediate points the algorithm repeats dijstra p! times. This algorithm can handle large number od edges and nodes but not very large number of intermediate points to be crossed.\n",
    "\n"
   ]
  },
  {
   "cell_type": "code",
   "execution_count": 8,
   "metadata": {},
   "outputs": [],
   "source": [
    "def ShortestCover(H,*p,distype):\n",
    "#Made a list with all points (initial, mid and last)\n",
    "    pts = []\n",
    "    for i in p:\n",
    "        pts.append(i)\n",
    "    pts.insert(0,H)\n",
    "    \n",
    "#Given the distype, the graph made depends on either real distance or time distance.\n",
    "    for i in p:\n",
    "        pts.append(i)\n",
    "    \n",
    "    if distype == 1:\n",
    "        G= G1\n",
    "        \n",
    "    elif distype == 2:\n",
    "        G = G2\n",
    "        \n",
    "    elif distype ==3:\n",
    "        G = Gr\n",
    "    \n",
    "    if nx.has_path(G,H,pts[-1]) == False:\n",
    "            print(\"No possible path\")\n",
    "#Permutating the possible paths\n",
    "\n",
    "    midpts = pts[1:-1]\n",
    "    perm = list(itertools.permutations(midpts))\n",
    "    \n",
    "    out = [0] * (len(perm))\n",
    "    \n",
    "#Finding out path with shortest length\n",
    "\n",
    "    for i in range(len(perm)):\n",
    "        for j in range(len(perm[0])-1):\n",
    "            out[i] += (nx.dijkstra_path_length(G,source = perm[i][j],target =perm[i][j+1])) \n",
    "\n",
    "    bpath = out.index(min(out))\n",
    "    bmidi = list(perm[bpath])\n",
    "    finalpath = [0]* len(pts)\n",
    "    finalpath[0] = pts[0]\n",
    "    finalpath[-1] = pts [-1]\n",
    "    \n",
    "    for i in range(1,len(pts)-1):\n",
    "        finalpath[i] = bmidi [i-1]\n",
    "        \n",
    "#Given the order of points to be traversed calculated in the step above, find shortest paths between points, then add all paths together.\n",
    "    allpath = []   \n",
    "    for i in range(len(finalpath)-1):\n",
    "        allpath.append(nx.dijkstra_path(G, source=finalpath[i], target = finalpath[i+1], weight='weight'))\n",
    "    for lp in range(1,len(allpath)):\n",
    "        allpath[lp].pop(0)\n",
    "        \n",
    "        \n",
    "    allpath = list(itertools.chain(*allpath))\n",
    "    \n",
    "    return allpath\n"
   ]
  },
  {
   "cell_type": "code",
   "execution_count": 9,
   "metadata": {},
   "outputs": [
    {
     "name": "stdout",
     "output_type": "stream",
     "text": [
      "[123, 126, 1048676, 106, 105, 1048660, 1048653, 1048634, 1048633, 1048635, 1048632, 69, 46, 47, 1048614, 2472, 1048617, 51, 1050719, 52, 1048598, 28, 1050699, 1050700, 1048601, 31, 1050698, 1048627, 64]\n"
     ]
    }
   ],
   "source": [
    "alpha = ShortestCover(123,31,28,1048601,64,distype =1)\n",
    "print(alpha)"
   ]
  },
  {
   "cell_type": "markdown",
   "metadata": {},
   "source": [
    "# Large Scale Visualization."
   ]
  },
  {
   "cell_type": "markdown",
   "metadata": {},
   "source": [
    "Function draw SC takes as input the output of the ShortestCover function, which is simply a list of integers."
   ]
  },
  {
   "cell_type": "code",
   "execution_count": 14,
   "metadata": {},
   "outputs": [],
   "source": [
    "def drawSC(scpath):\n",
    "    a = scpath\n",
    "    \n",
    "    mdf = rdist.loc[rdist['node1'].isin(a), ['color']] = 'yellow'\n",
    "      \n",
    "    g = nx.Graph()\n",
    "\n",
    "    for i, elrow in rdist.iterrows():    \n",
    "        g.add_edge(elrow[0], elrow[1], **elrow[2:].to_dict())\n",
    "\n",
    "    for i, nlrow in nodexy.iterrows():\n",
    "        nx.set_node_attributes(g, {nlrow['id']:  nlrow[1:].to_dict()})   \n",
    "\n",
    "    node_positions = {node[0]: (node[1]['X'], -node[1]['Y']) for node in g.nodes(data=True)}\n",
    "    edge_colors = [e[2]['color'] for e in list(g.edges(data=True))]\n",
    "\n",
    "\n",
    "    nx.draw(g, pos=node_positions, edge_color=edge_colors, node_size=0.05, node_color='black', width = 2)\n",
    "    plt.figure(figsize=(100, 60))\n",
    "    plt.title('Shortest walk going through all nodes')\n",
    "    plt.show()\n",
    "\n",
    "    \n",
    "  \n",
    "\n"
   ]
  },
  {
   "cell_type": "code",
   "execution_count": null,
   "metadata": {},
   "outputs": [],
   "source": [
    "drawSC(alpha)"
   ]
  },
  {
   "cell_type": "code",
   "execution_count": null,
   "metadata": {},
   "outputs": [],
   "source": []
  },
  {
   "cell_type": "code",
   "execution_count": null,
   "metadata": {},
   "outputs": [],
   "source": []
  }
 ],
 "metadata": {
  "kernelspec": {
   "display_name": "Python 3",
   "language": "python",
   "name": "python3"
  },
  "language_info": {
   "codemirror_mode": {
    "name": "ipython",
    "version": 3
   },
   "file_extension": ".py",
   "mimetype": "text/x-python",
   "name": "python",
   "nbconvert_exporter": "python",
   "pygments_lexer": "ipython3",
   "version": "3.7.3"
  }
 },
 "nbformat": 4,
 "nbformat_minor": 2
}
