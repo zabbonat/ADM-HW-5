{
 "cells": [
  {
   "cell_type": "code",
   "execution_count": 32,
   "metadata": {},
   "outputs": [],
   "source": [
    "import json\n",
    "import collections\n",
    "import pandas as pd \n",
    "import numpy as np\n",
    "from io import StringIO \n",
    "import seaborn as sns\n",
    "import networkx as nx\n",
    "import matplotlib.pyplot as plt\n",
    "import heapq\n",
    "from shapely.geometry import Point, Polygon\n",
    "import json, string\n",
    "import requests\n",
    "import geocoder\n",
    "from folium import Map, Marker, GeoJson, LayerControl\n",
    "from ediblepickle import checkpoint\n",
    "from tqdm import tqdm_notebook\n",
    "import os \n",
    "import folium\n",
    "from folium import plugins\n",
    "from collections import defaultdict\n"
   ]
  },
  {
   "cell_type": "code",
   "execution_count": 34,
   "metadata": {},
   "outputs": [],
   "source": [
    "with open('coordinates.co','r') as f:\n",
    "    out = f.readlines()\n",
    "out = out[7:]\n",
    "# create DataFrame\n",
    "Node_data = pd.DataFrame([map(int,raw.strip(\"\\n\").strip('v ').split()) for raw in out],columns = ['Id_Node', 'Latitude', 'Longitude'])\n",
    "\n",
    "#info_norm =(df[['Longitude','Latitude']] - df[['Longitude','Latitude']].mean())/df[['Longitude','Latitude']].std()\n",
    "#sns.scatterplot(x = 'Longitude', y = 'Latitude'  , data = info_norm)\n",
    "\n",
    "with open('distancegraph.gr','r') as f:\n",
    "    out = f.readlines()\n",
    "out = out[7:]\n",
    "# create DataFrame\n",
    "Distance_data = pd.DataFrame([map(int,i.strip('\\n').strip(\"a \").split()) for i in out],columns =['Id_Node1', 'Id_Node2', 'd(Id_Node1,Id_Node2)'])\n",
    "\n",
    "with open('traveltimegraph.gr','r') as f:\n",
    "    out = f.readlines()\n",
    "out = out[7:]\n",
    "# create DataFrame\n",
    "Travel_time_data = pd.DataFrame([map(int,i.strip('\\n').strip(\"a \").split()) for i in out],columns =['Node1', 'Node2', 't(Id_Node1, Id_Node2)'])\n",
    "\n"
   ]
  },
  {
   "cell_type": "code",
   "execution_count": 35,
   "metadata": {},
   "outputs": [],
   "source": [
    "coordinates=Node_data\n",
    "distance=Distance_data\n",
    "traveltime=Travel_time_data\n",
    "\n",
    "del Node_data\n",
    "del Distance_data\n",
    "del Travel_time_data\n",
    "\n",
    "distance.rename({'Id_Node1': 'Node1', 'Id_Node2': 'Node2', 'd(Id_Node1,Id_Node2)':'Distance'}, axis=1,inplace=True)\n",
    "traveltime.rename({'t(Id_Node1, Id_Node2)': 'TimeTravel'}, axis=1,inplace=True)\n",
    "\n",
    "coordinates['Latitude']=coordinates['Latitude']/10**6\n",
    "coordinates['Longitude']=coordinates['Longitude']/10**6"
   ]
  },
  {
   "cell_type": "code",
   "execution_count": null,
   "metadata": {
    "scrolled": true
   },
   "outputs": [],
   "source": [
    "def dictionary(distance):\n",
    "    d = defaultdict(list)\n",
    "    for index in tqdm_notebook(distance.index, desc='Fill the Dictionary'):\n",
    "        d[distance[\"Node1\"].iloc[index]].append((distance[\"Node2\"].iloc[index],distance[\"Distance\"].iloc[index],traveltime[\"TimeTravel\"].iloc[index],1))\n",
    "    np.save('Graph_dict.npy', d)"
   ]
  },
  {
   "cell_type": "code",
   "execution_count": 36,
   "metadata": {},
   "outputs": [],
   "source": [
    "dictionary(distance)\n",
    "d = np.load('Graph_dict.npy',allow_pickle='TRUE').item() # load the nested dict"
   ]
  },
  {
   "cell_type": "code",
   "execution_count": 37,
   "metadata": {},
   "outputs": [],
   "source": [
    "def spanning_tree_distance():\n",
    "    print('Choose from which node start')\n",
    "    node=int(input())\n",
    "    mst = defaultdict(set)\n",
    "    visited = set([node])\n",
    "    edges = [(dist,node,to) for to,dist,_,_ in d[node]]\n",
    "    heapq.heapify(edges)\n",
    "\n",
    "    while edges:\n",
    "        dist, frm, to = heapq.heappop(edges) #Pop and return the smallest item from the heap, maintaining the heap invariant.\n",
    "        if to not in visited:\n",
    "            visited.add(to)\n",
    "            mst[frm].add(to)\n",
    "            for to_next, dist,_,_ in d[to]:\n",
    "                if to_next not in visited:\n",
    "                    heapq.heappush(edges, (dist, to, to_next)) #Push the value item into the heap, maintaining the heap invariant.\n",
    "    return mst\n"
   ]
  },
  {
   "cell_type": "code",
   "execution_count": 38,
   "metadata": {},
   "outputs": [],
   "source": [
    "def spanning_tree_time():\n",
    "    print('Choose from which node start')\n",
    "    node=int(input())   \n",
    "    mst = defaultdict(set)\n",
    "    visited = set([node])\n",
    "    edges = [(time,node,to) for to,_,time,_ in d[node]]\n",
    "    heapq.heapify(edges)\n",
    "\n",
    "    while edges:\n",
    "        time, frm, to = heapq.heappop(edges) #Pop and return the smallest item from the heap, maintaining the heap invariant.\n",
    "        if to not in visited:\n",
    "            visited.add(to)\n",
    "            mst[frm].add(to)\n",
    "            for to_next,_,time,_ in d[to]:\n",
    "                if to_next not in visited:\n",
    "                    heapq.heappush(edges, (time, to, to_next)) #Push the value item into the heap, maintaining the heap invariant.\n",
    "    return mst\n",
    "\n"
   ]
  },
  {
   "cell_type": "code",
   "execution_count": 39,
   "metadata": {},
   "outputs": [],
   "source": [
    "def spanning_tree_weight():\n",
    "    print('Choose from which node start')\n",
    "    node=int(input())\n",
    "    mst = defaultdict(set)\n",
    "    visited = set([node])\n",
    "    edges = [(weight,node,to) for to,_,_,weight in d[node]]\n",
    "    heapq.heapify(edges)\n",
    "\n",
    "    while edges:\n",
    "        weight, frm, to = heapq.heappop(edges) #Pop and return the smallest item from the heap, maintaining the heap invariant.\n",
    "        if to not in visited:\n",
    "            visited.add(to)\n",
    "            mst[frm].add(to)\n",
    "            for to_next,_,time,_ in d[to]:\n",
    "                if to_next not in visited:\n",
    "                    heapq.heappush(edges, (weight, to, to_next)) #Push the value item into the heap, maintaining the heap invariant.\n",
    "    return mst\n"
   ]
  },
  {
   "cell_type": "code",
   "execution_count": 40,
   "metadata": {},
   "outputs": [
    {
     "name": "stdout",
     "output_type": "stream",
     "text": [
      "Choose how many nodes consider for the spanning tree\n",
      "4\n",
      "Choose which nodes consider\n",
      "1\n",
      "1048577\n",
      "2\n",
      "1048588\n",
      "Choose which method use for find the smartest Network:Time, Weight, Distance. p.s. If you are not interest just write \"quit\"\n",
      "Time\n",
      "Choose from which node start\n",
      "2\n"
     ]
    }
   ],
   "source": [
    "from collections import defaultdict\n",
    "nodini=[]\n",
    "print('Choose how many nodes consider for the spanning tree')\n",
    "n=int(input())\n",
    "print('Choose which nodes consider')\n",
    "for i in range(0,n):\n",
    "    nodini.append(int(input()))\n",
    "print('Choose which method use for find the smartest Network:Time, Weight, Distance. p.s. If you are not interest just write \"quit\"') \n",
    "\n",
    "a=input().lower()\n",
    "if a=='time':\n",
    "    b=dict(spanning_tree_time())\n",
    "\n",
    "\n",
    "elif a=='weight':\n",
    "    b=dict(spanning_tree_weight())\n",
    "\n",
    "\n",
    "\n",
    "\n",
    "\n",
    "elif a=='distance':\n",
    "    b=dict(spanning_tree_distance())\n",
    "\n",
    "\n",
    "\n",
    "elif a=='quit':\n",
    "    print(':(')\n",
    "\n",
    "else:\n",
    "    print('What you said? please repeat!')\n",
    "\n",
    "\n",
    "\n"
   ]
  },
  {
   "cell_type": "code",
   "execution_count": 41,
   "metadata": {},
   "outputs": [],
   "source": [
    "#frontend\n",
    "\n",
    "Values=[]\n",
    "for i in range(len(nodini)):\n",
    "\n",
    "    try:\n",
    "        Values.append(b[nodini[i]])\n",
    "    except:\n",
    "          continue\n",
    "\n",
    "result_spanning = pd.DataFrame(list(b.items()), columns=['Id_Node', 'Connection'])\n",
    "\n",
    "lista = []\n",
    "for i in range(len(Values)):\n",
    "    lista.append(result_spanning[result_spanning['Connection']==Values[i]])\n",
    "\n",
    "result_spanning_1 = pd.concat(lista)\n",
    "\n",
    "df_final = pd.merge(result_spanning_1, coordinates, on='Id_Node', how='inner')\n",
    "df_final_1 = pd.merge(result_spanning, coordinates, on='Id_Node', how='inner')\n"
   ]
  },
  {
   "cell_type": "code",
   "execution_count": 42,
   "metadata": {
    "scrolled": false
   },
   "outputs": [],
   "source": [
    "def visualization_spanning_tree():    \n",
    "#built the map centralized on the median of the coordinates  \n",
    "    map = folium.Map(location=[np.median((df_final['Longitude']).tolist()),\n",
    "                               np.median((df_final['Latitude']).tolist())], default_zoom_start=15)\n",
    "    \n",
    "#add marker, set of nodes result of spanning tree algorithm\n",
    "    for i in tqdm_notebook(range(0,len(df_final))):\n",
    "        folium.CircleMarker(location = [((df_final['Longitude']).values)[i], \n",
    "                                                         ((df_final['Latitude']).values)[i]],\n",
    "                                                 number_of_sides = 4,\n",
    "                                                 radius = 10,\n",
    "                                                 weight = 8,\n",
    "                                                 color='red',\n",
    "                                                 fill_opacity = 0.8).add_to(map)\n",
    "    for i in tqdm_notebook(range(0,len(df_final))):\n",
    "        folium.Marker(location = [((df_final['Longitude']).values)[i], \n",
    "                                                         ((df_final['Latitude']).values)[i]],\n",
    "                                                 number_of_sides = 4,\n",
    "                                                 radius = 10,\n",
    "                                                 weight = 8,\n",
    "                                                 fill_opacity = 0.8).add_to(map)\n",
    "\n",
    "#adding connection between two node\n",
    "    for i in tqdm_notebook(range(0,len(df_final)-1)):\n",
    "        folium.PolyLine(locations = [(((df_final['Longitude']).values)[i], \n",
    "                                      ((df_final['Latitude']).values)[i]), \n",
    "                                     (((df_final['Longitude']).values)[i+1], \n",
    "                                      ((df_final['Latitude']).values)[i+1])], \n",
    "                        line_opacity = 0.5,color='red').add_to(map)\n",
    "    folium.CircleMarker([((df_final['Longitude']).values)[i],((df_final['Latitude']/1000000).values)[i]],\n",
    "                        radius=15, color='red').add_to(map)\n",
    "#weight represent the dimension of the node\n",
    "#radius the shape\n",
    "#opacity \n",
    "    map.save(\"Spanning_tree.html\")\n",
    "\n",
    "    return map"
   ]
  },
  {
   "cell_type": "code",
   "execution_count": 43,
   "metadata": {},
   "outputs": [
    {
     "data": {
      "application/vnd.jupyter.widget-view+json": {
       "model_id": "6384f0d7b61341c09a38a618c22eb475",
       "version_major": 2,
       "version_minor": 0
      },
      "text/plain": [
       "HBox(children=(IntProgress(value=0, max=4), HTML(value='')))"
      ]
     },
     "metadata": {},
     "output_type": "display_data"
    },
    {
     "name": "stdout",
     "output_type": "stream",
     "text": [
      "\n"
     ]
    },
    {
     "data": {
      "application/vnd.jupyter.widget-view+json": {
       "model_id": "051102a7ca2842ccafbbf6b5fbfb5aba",
       "version_major": 2,
       "version_minor": 0
      },
      "text/plain": [
       "HBox(children=(IntProgress(value=0, max=4), HTML(value='')))"
      ]
     },
     "metadata": {},
     "output_type": "display_data"
    },
    {
     "name": "stdout",
     "output_type": "stream",
     "text": [
      "\n"
     ]
    },
    {
     "data": {
      "application/vnd.jupyter.widget-view+json": {
       "model_id": "45bbc73eee3649b48e7b47d8a3f71149",
       "version_major": 2,
       "version_minor": 0
      },
      "text/plain": [
       "HBox(children=(IntProgress(value=0, max=3), HTML(value='')))"
      ]
     },
     "metadata": {},
     "output_type": "display_data"
    },
    {
     "name": "stdout",
     "output_type": "stream",
     "text": [
      "\n"
     ]
    },
    {
     "data": {
      "text/html": [
       "<div style=\"width:100%;\"><div style=\"position:relative;width:100%;height:0;padding-bottom:60%;\"><iframe src=\"data:text/html;charset=utf-8;base64,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\" style=\"position:absolute;width:100%;height:100%;left:0;top:0;border:none !important;\" allowfullscreen webkitallowfullscreen mozallowfullscreen></iframe></div></div>"
      ],
      "text/plain": [
       "<folium.folium.Map at 0x18b7eba4828>"
      ]
     },
     "execution_count": 43,
     "metadata": {},
     "output_type": "execute_result"
    }
   ],
   "source": [
    "visualization_spanning_tree()"
   ]
  },
  {
   "cell_type": "markdown",
   "metadata": {},
   "source": [
    "'reference'\n",
    "https://deparkes.co.uk/2019/02/27/folium-lines-and-markers/"
   ]
  }
 ],
 "metadata": {
  "kernelspec": {
   "display_name": "Python 3",
   "language": "python",
   "name": "python3"
  },
  "language_info": {
   "codemirror_mode": {
    "name": "ipython",
    "version": 3
   },
   "file_extension": ".py",
   "mimetype": "text/x-python",
   "name": "python",
   "nbconvert_exporter": "python",
   "pygments_lexer": "ipython3",
   "version": "3.6.8"
  }
 },
 "nbformat": 4,
 "nbformat_minor": 2
}
